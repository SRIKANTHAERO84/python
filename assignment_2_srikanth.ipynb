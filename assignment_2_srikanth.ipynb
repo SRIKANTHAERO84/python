{
 "cells": [
  {
   "cell_type": "code",
   "execution_count": 27,
   "metadata": {},
   "outputs": [],
   "source": [
    "#2.1\n",
    "#Write a Python program using function concept that maps list of words into a list of integers\n",
    "def convert_to_int(x):\n",
    "    l=[]\n",
    "    for i in (x):\n",
    "        p=len(i)\n",
    "        l.append(p)\n",
    "    print(l)"
   ]
  },
  {
   "cell_type": "code",
   "execution_count": 29,
   "metadata": {},
   "outputs": [
    {
     "name": "stdout",
     "output_type": "stream",
     "text": [
      "[2, 3, 4]\n"
     ]
    }
   ],
   "source": [
    "convert_to_int([ \"ab\",\"cde\",\"erty\"])"
   ]
  },
  {
   "cell_type": "code",
   "execution_count": null,
   "metadata": {},
   "outputs": [],
   "source": [
    "def do_sum(x1,x2): return x1+x2\n",
    "def my_reduce(func,seq):\n",
    "    first=seq[0]\n",
    "    for i in seq[1:]:\n",
    "        first= func(first,i)\n",
    "    return first\n"
   ]
  },
  {
   "cell_type": "code",
   "execution_count": null,
   "metadata": {},
   "outputs": [],
   "source": [
    "#Task1 3 question\n",
    "#Implement a function longestWord() that takes a list of words and returns the longest one."
   ]
  },
  {
   "cell_type": "code",
   "execution_count": 4,
   "metadata": {},
   "outputs": [],
   "source": [
    "#Task1 Q3\n",
    "def longestWord(x):\n",
    "    l=[]\n",
    "    for i in x:\n",
    "        l.append(len(i))\n",
    "    return(x[l.index(max(l))])"
   ]
  },
  {
   "cell_type": "code",
   "execution_count": 5,
   "metadata": {},
   "outputs": [
    {
     "data": {
      "text/plain": [
       "'welcome'"
      ]
     },
     "execution_count": 5,
     "metadata": {},
     "output_type": "execute_result"
    }
   ],
   "source": [
    "longestWord([\"hi\",\"Hello\",\"welcome\"])"
   ]
  },
  {
   "cell_type": "code",
   "execution_count": 6,
   "metadata": {},
   "outputs": [],
   "source": [
    "#Task2 1.2\n",
    "#Write a function filter_long_words() that takes a list of words and an integer n and returns the list\n",
    "#of words that are longer than n.\n",
    "\n",
    "def filter_long_words(x,n):\n",
    "    l=[]\n",
    "    p=[]\n",
    "    for i in x:\n",
    "        l.append(len(i))\n",
    "    for j in l:\n",
    "        if n < j:\n",
    "            p.append(x[l.index(j)])\n",
    "    return p\n",
    "    "
   ]
  },
  {
   "cell_type": "code",
   "execution_count": 7,
   "metadata": {},
   "outputs": [
    {
     "data": {
      "text/plain": [
       "['how', 'hello', 'when']"
      ]
     },
     "execution_count": 7,
     "metadata": {},
     "output_type": "execute_result"
    }
   ],
   "source": [
    "filter_long_words([\"hi\",\"how\",\"hello\",\"when\"],2)"
   ]
  },
  {
   "cell_type": "code",
   "execution_count": 10,
   "metadata": {},
   "outputs": [],
   "source": [
    "#Task2 q 2.1\n",
    "#Write a Python program using function concept that maps list of words into a list of integers\n",
    "#representing the lengths of the corresponding words .\n",
    "\n",
    "def listofwords(x):\n",
    "    b=map(len,x)\n",
    "    return list(b)\n",
    "    "
   ]
  },
  {
   "cell_type": "code",
   "execution_count": 11,
   "metadata": {},
   "outputs": [
    {
     "data": {
      "text/plain": [
       "[2, 3, 4]"
      ]
     },
     "execution_count": 11,
     "metadata": {},
     "output_type": "execute_result"
    }
   ],
   "source": [
    "listofwords([\"ab\",\"cde\",\"erty\"])\n"
   ]
  },
  {
   "cell_type": "code",
   "execution_count": 13,
   "metadata": {},
   "outputs": [],
   "source": [
    "\n",
    "#Write a Python function which takes a character (i.e. a string of length 1) and returns True if it is\n",
    "#a vowel, False otherwise.\n",
    "def check_vowel(x):\n",
    "    for i in x:\n",
    "        i=i.lower()\n",
    "        if type(i)==str and len(i)==1:\n",
    "            if i=='a' or i=='e' or i=='i' or i =='o' or i=='u':\n",
    "                print(\"True\")\n",
    "            else:\n",
    "                print(\"False\")\n",
    "        else:\n",
    "            print(\"False\")"
   ]
  },
  {
   "cell_type": "code",
   "execution_count": 16,
   "metadata": {},
   "outputs": [
    {
     "name": "stdout",
     "output_type": "stream",
     "text": [
      "True\n",
      "False\n",
      "True\n",
      "False\n"
     ]
    }
   ],
   "source": [
    "check_vowel([\"a\",\"abc\",\"o\",\"eou\"])"
   ]
  },
  {
   "cell_type": "code",
   "execution_count": null,
   "metadata": {},
   "outputs": [],
   "source": []
  }
 ],
 "metadata": {
  "kernelspec": {
   "display_name": "Python 3",
   "language": "python",
   "name": "python3"
  },
  "language_info": {
   "codemirror_mode": {
    "name": "ipython",
    "version": 3
   },
   "file_extension": ".py",
   "mimetype": "text/x-python",
   "name": "python",
   "nbconvert_exporter": "python",
   "pygments_lexer": "ipython3",
   "version": "3.7.3"
  }
 },
 "nbformat": 4,
 "nbformat_minor": 4
}
